{
  "nbformat": 4,
  "nbformat_minor": 0,
  "metadata": {
    "colab": {
      "name": "L1 - lec1.ipynb",
      "provenance": [],
      "collapsed_sections": []
    },
    "kernelspec": {
      "display_name": "Python 3",
      "language": "python",
      "name": "python3"
    },
    "language_info": {
      "codemirror_mode": {
        "name": "ipython",
        "version": 3
      },
      "file_extension": ".py",
      "mimetype": "text/x-python",
      "name": "python",
      "nbconvert_exporter": "python",
      "pygments_lexer": "ipython3",
      "version": "3.7.6"
    }
  },
  "cells": [
    {
      "cell_type": "markdown",
      "metadata": {
        "id": "H9mDGX_-JTQR"
      },
      "source": [
        "# Getting Started with Python\n",
        "\n",
        "Lets start at the very beginning. You can use Python as a calculator.\n",
        "\n",
        "This is my starting with Rahul Dave.\n",
        "\n",
        "![](https://github.com/rahulpathak2002/BasicPython/blob/main/getting_started.slides.dir/8.png?raw=1)"
      ]
    },
    {
      "cell_type": "markdown",
      "metadata": {
        "id": "47LvbwP_JTQZ"
      },
      "source": [
        "## A calculator"
      ]
    },
    {
      "cell_type": "code",
      "metadata": {
        "id": "0wwL0Av0JTQa",
        "outputId": "e1702dc6-351e-481e-a2f6-a1dec6a871f1"
      },
      "source": [
        "1 + 1"
      ],
      "execution_count": null,
      "outputs": [
        {
          "output_type": "execute_result",
          "data": {
            "text/plain": [
              "2"
            ]
          },
          "metadata": {
            "tags": []
          },
          "execution_count": 1
        }
      ]
    },
    {
      "cell_type": "code",
      "metadata": {
        "id": "ieBfPiI4JTQd",
        "outputId": "df256d6a-ec9f-4e15-fe32-76908b13df0a"
      },
      "source": [
        "5 - 1"
      ],
      "execution_count": null,
      "outputs": [
        {
          "output_type": "execute_result",
          "data": {
            "text/plain": [
              "4"
            ]
          },
          "metadata": {
            "tags": []
          },
          "execution_count": 2
        }
      ]
    },
    {
      "cell_type": "code",
      "metadata": {
        "id": "EgQMAAQ1JTQe",
        "outputId": "a53e6538-1537-45d9-bb19-0878fffc1714"
      },
      "source": [
        "23*45"
      ],
      "execution_count": null,
      "outputs": [
        {
          "output_type": "execute_result",
          "data": {
            "text/plain": [
              "1035"
            ]
          },
          "metadata": {
            "tags": []
          },
          "execution_count": 3
        }
      ]
    },
    {
      "cell_type": "code",
      "metadata": {
        "id": "lRusA8yFJTQe",
        "outputId": "9de76253-e17d-468a-9ddf-32714a5e25c9"
      },
      "source": [
        "2**10"
      ],
      "execution_count": null,
      "outputs": [
        {
          "output_type": "execute_result",
          "data": {
            "text/plain": [
              "1024"
            ]
          },
          "metadata": {
            "tags": []
          },
          "execution_count": 8
        }
      ]
    },
    {
      "cell_type": "code",
      "metadata": {
        "id": "b2OfinC_JTQf",
        "outputId": "5f1392de-63d8-44d8-eef7-4527d957945f"
      },
      "source": [
        "5/2"
      ],
      "execution_count": null,
      "outputs": [
        {
          "output_type": "execute_result",
          "data": {
            "text/plain": [
              "2.5"
            ]
          },
          "metadata": {
            "tags": []
          },
          "execution_count": 5
        }
      ]
    },
    {
      "cell_type": "markdown",
      "metadata": {
        "id": "Xse5LhqeJTQg"
      },
      "source": [
        "And this is integer divison:"
      ]
    },
    {
      "cell_type": "code",
      "metadata": {
        "id": "vHg6J-LHJTQg",
        "outputId": "e080871b-2ffa-4c38-9a2f-bb9251b11c00"
      },
      "source": [
        "5//2"
      ],
      "execution_count": null,
      "outputs": [
        {
          "output_type": "execute_result",
          "data": {
            "text/plain": [
              "2"
            ]
          },
          "metadata": {
            "tags": []
          },
          "execution_count": 6
        }
      ]
    },
    {
      "cell_type": "markdown",
      "metadata": {
        "id": "k9Sf4ssQJTQh"
      },
      "source": [
        "You can also get the remainder:"
      ]
    },
    {
      "cell_type": "code",
      "metadata": {
        "id": "MLTmlKq9JTQi",
        "outputId": "ff79848d-f41f-4609-91ba-1f47e1944e7e"
      },
      "source": [
        "5 % 2"
      ],
      "execution_count": null,
      "outputs": [
        {
          "output_type": "execute_result",
          "data": {
            "text/plain": [
              "1"
            ]
          },
          "metadata": {
            "tags": []
          },
          "execution_count": 7
        }
      ]
    },
    {
      "cell_type": "markdown",
      "metadata": {
        "id": "1iOs0Qd_ah_A"
      },
      "source": [
        "A language is not particularly useful,if you cant *symbolically* assign values in the language to names. This is the concept of *variables*, stolen from algebra.\n",
        "\n",
        "## Variables\n",
        "\n",
        "**Variables are labels for values**\n",
        "\n",
        "- Start with a letter or underscore\n",
        "- Can contain only alpha-numeric characters and underscore\n",
        "- Are case sensitive"
      ]
    },
    {
      "cell_type": "code",
      "metadata": {
        "id": "uX-33Ockarbc",
        "outputId": "89f5ab92-698e-4613-80dd-51537df1b918"
      },
      "source": [
        "# CANT DO THIS 9variable = \"hello\"\n",
        "# print 9variable\n",
        "\n",
        "Var = \"hello\"\n",
        "#print (var) # will give an error\n",
        "print (Var)"
      ],
      "execution_count": null,
      "outputs": [
        {
          "output_type": "stream",
          "text": [
            "hello\n"
          ],
          "name": "stdout"
        }
      ]
    },
    {
      "cell_type": "markdown",
      "metadata": {
        "id": "c3ua3uGWJTQk"
      },
      "source": [
        "What happened above? In the computer's memory, a location was found, and then filled with the word \"hello\". Then a variable `Var` was created and was used to label this memory location.\n",
        "\n",
        "![](https://github.com/rahulpathak2002/BasicPython/blob/main/images/labelmem.jpg?raw=1)"
      ]
    },
    {
      "cell_type": "markdown",
      "metadata": {
        "id": "i883lrL-au-6"
      },
      "source": [
        "### Variable Data Types\n",
        "\n",
        "  - Integer\n",
        "  - Float\n",
        "  - String\n",
        "  - Boolean\n",
        "\n",
        "(More data types are available but not necessary now)"
      ]
    },
    {
      "cell_type": "code",
      "metadata": {
        "id": "PXUOcyCYa0B4",
        "outputId": "6764fc79-78a4-443d-f794-9270b903fc02"
      },
      "source": [
        "#To identify the data type of a variable in python we use the built-in function type()\n",
        "\n",
        "var = 7\n",
        "print (var)\n",
        "print(\"The data type is:\", type(var))"
      ],
      "execution_count": null,
      "outputs": [
        {
          "output_type": "stream",
          "text": [
            "7\n",
            "The data type is: <class 'int'>\n"
          ],
          "name": "stdout"
        }
      ]
    },
    {
      "cell_type": "code",
      "metadata": {
        "id": "gxlREmada7xz",
        "outputId": "adc09a39-ec3b-45b4-e606-1ea674f43c66"
      },
      "source": [
        "var = 7.01\n",
        "print (var)\n",
        "print(\"The data type is:\", type(var))"
      ],
      "execution_count": null,
      "outputs": [
        {
          "output_type": "stream",
          "text": [
            "7.01\n",
            "The data type is: <class 'float'>\n"
          ],
          "name": "stdout"
        }
      ]
    },
    {
      "cell_type": "code",
      "metadata": {
        "id": "8KC5JyfZa93t",
        "outputId": "438291ff-a1bd-46cd-f73b-277cb177451e"
      },
      "source": [
        "var = \"Hello World!\"\n",
        "print (var)\n",
        "print(\"The data type is:\", type(var))"
      ],
      "execution_count": null,
      "outputs": [
        {
          "output_type": "stream",
          "text": [
            "Hello World!\n",
            "The data type is: <class 'str'>\n"
          ],
          "name": "stdout"
        }
      ]
    },
    {
      "cell_type": "code",
      "metadata": {
        "id": "llCMJzpcbAAp",
        "outputId": "b9bb8cdd-a1b0-4d4c-cafd-470649ef3dcd"
      },
      "source": [
        "var = True\n",
        "print (var)\n",
        "print(\"The data type is:\", type(var))"
      ],
      "execution_count": null,
      "outputs": [
        {
          "output_type": "stream",
          "text": [
            "True\n",
            "The data type is: <class 'bool'>\n"
          ],
          "name": "stdout"
        }
      ]
    },
    {
      "cell_type": "markdown",
      "metadata": {
        "id": "At56D8AEJTQn"
      },
      "source": [
        "A variable is literally a label. You can think of it as a post-it, or sticky note, or a *pointer*. Do not think of it as a box in which a value is stored.\n",
        "\n",
        "In the above, we just take the variable `var` and point it to different pieces of memory holding different values. This is perhaps more clear from a diagram.\n",
        "\n",
        "![](https://github.com/rahulpathak2002/BasicPython/blob/main/images/labelmemmany.jpg?raw=1)"
      ]
    },
    {
      "cell_type": "markdown",
      "metadata": {
        "id": "R7rxdurPbFOE"
      },
      "source": [
        "## Even More operators\n",
        "\n",
        "Besides the usual \"operators\" for values we profiled at the top, you can also use the following:\n",
        "\n",
        "1. Boolean Expressions: returns True or False \n",
        "2. Relational operators: !=, ==, <=, <, >, >= \n",
        "3. Logical Operators: and, or, not\n",
        "\n",
        "You can use a variable, wherever you had used a value:"
      ]
    },
    {
      "cell_type": "code",
      "metadata": {
        "id": "ecFxNLCybLTC"
      },
      "source": [
        "# Arithmetic Operators\n",
        "var1 = 5\n",
        "var2 = 3\n",
        "\n",
        "print (var1 - var2)\n",
        "print (var1*var2)\n",
        "\n",
        "var1 = \"hello\"\n",
        "var2 = \"world\"\n",
        "var3 = \"!\"\n",
        "print (var1+\" \"+var2+var3)\n",
        "\n",
        "# Modulus\n",
        "a = 5\n",
        "b = 2\n",
        "c = a%b\n",
        "print (c)"
      ],
      "execution_count": null,
      "outputs": []
    },
    {
      "cell_type": "markdown",
      "metadata": {
        "id": "saHbG5r7JTQo"
      },
      "source": [
        "In any programming language, to be able to do something useful, you need to be able to evaluate the \"truthiness\" of expressions."
      ]
    },
    {
      "cell_type": "code",
      "metadata": {
        "id": "nQmZKRiPJTQo",
        "outputId": "a6dd6fa4-0a1f-493f-acde-5918bd35c9aa"
      },
      "source": [
        "# Relational Operators & Boolean expressions\n",
        "var1 = 5\n",
        "var2 = 3\n",
        "print (var1 < var2)"
      ],
      "execution_count": null,
      "outputs": [
        {
          "output_type": "stream",
          "text": [
            "False\n"
          ],
          "name": "stdout"
        }
      ]
    },
    {
      "cell_type": "markdown",
      "metadata": {
        "id": "AUZIO2fgJTQp"
      },
      "source": [
        "Such comparisons can be used to make decisions, as we shall soon see."
      ]
    },
    {
      "cell_type": "code",
      "metadata": {
        "id": "mXeixKRSJTQp",
        "outputId": "55029741-f71f-49b0-cab8-0da8ed0a79d4"
      },
      "source": [
        "a = \"hgi\"\n",
        "b = \"hello\"\n",
        "c = \"hi\"\n",
        "d = \"hello\"\n",
        "print (a==c)\n",
        "print (b==d)"
      ],
      "execution_count": null,
      "outputs": [
        {
          "output_type": "stream",
          "text": [
            "False\n",
            "True\n"
          ],
          "name": "stdout"
        }
      ]
    },
    {
      "cell_type": "markdown",
      "metadata": {
        "id": "0QDLkzHHJTQq"
      },
      "source": [
        "The first comparison compares the contents of the memory for `a` and `c` and finds that both are different, giving us `False`. Conversely, the second comparison gives us `True`. We can utilize such comparisons in \"decision statements\"."
      ]
    },
    {
      "cell_type": "markdown",
      "metadata": {
        "id": "5at6TQF3bsw7"
      },
      "source": [
        "## Conditional Statements and Python Indentation\n",
        "\n",
        "If you have the ability to test something for \"truthiness\", you can use it to make a decision."
      ]
    },
    {
      "cell_type": "code",
      "metadata": {
        "id": "VUZf9DZ3bzJa",
        "outputId": "9d4f5d2d-074d-4791-afa7-34f7e40f7935"
      },
      "source": [
        "#Simple If conditions\n",
        "var1 = 5\n",
        "var2 = 10\n",
        "\n",
        "if var1 == var2:\n",
        "    print(\"The values are equal\")\n",
        "if var1 < var2:\n",
        "    print(\"First variable is lesser than the second variable\")\n",
        "if var1 > var2:\n",
        "    print(\"Second variable is lesser than the first variable\")"
      ],
      "execution_count": null,
      "outputs": [
        {
          "output_type": "stream",
          "text": [
            "First variable is lesser than the second variable\n"
          ],
          "name": "stdout"
        }
      ]
    },
    {
      "cell_type": "markdown",
      "metadata": {
        "id": "Fq-_JcQXJTQq"
      },
      "source": [
        "Notice how python dispenses with brackets, **replacing them by a colon and an indented next line**. The indentation tells us that the code below runs when the condition holds. Python uses this **colon-indentation** for many things, such as *for loops* for iteration and loops in general, for conditionals, for function and class definition, etc."
      ]
    },
    {
      "cell_type": "markdown",
      "metadata": {
        "id": "94wv6B45JTQr"
      },
      "source": [
        "This conditional is such a common idiom that there is a better way to write it."
      ]
    },
    {
      "cell_type": "code",
      "metadata": {
        "id": "VsRHt8nKb1xv",
        "outputId": "498a05e8-b2b1-4f1f-84c8-5d1b054fd848"
      },
      "source": [
        "#An alternative way to code the previous (If-Else)\n",
        "var1 = 5\n",
        "var2 = 10\n",
        "\n",
        "if (var1 == var2):\n",
        "    print(\"The values are equal\")\n",
        "elif (var1 < var2):\n",
        "    print(\"First variable is lesser than the second variable\")  \n",
        "else:\n",
        "    print(\"Second variable is lesser than the first variable\")"
      ],
      "execution_count": null,
      "outputs": [
        {
          "output_type": "stream",
          "text": [
            "First variable is lesser than the second variable\n"
          ],
          "name": "stdout"
        }
      ]
    },
    {
      "cell_type": "markdown",
      "metadata": {
        "id": "1KfyCmRiJTQs"
      },
      "source": [
        "Notice the brackets around the conditional. These are optional but can sometimes help disambiguate. You can combine multiple such statements."
      ]
    },
    {
      "cell_type": "code",
      "metadata": {
        "id": "5i9oEH0sb7qw",
        "outputId": "cff4bc28-2a7b-4a35-ca4f-2d19b75ffc49"
      },
      "source": [
        "#Nested If\n",
        "var1 = 5\n",
        "var2 = 10\n",
        "var3 = 15\n",
        "\n",
        "if (var1 == var2):\n",
        "    print (\"The values are equal\")\n",
        "\n",
        "elif (var1 < var2):\n",
        "    if (var2 == var3):\n",
        "        print (\"Equal \")\n",
        "    elif (var2 < var3):\n",
        "        print (\"Less than\")\n",
        "    else:\n",
        "        print (\"Greater than\")\n",
        "\n",
        "else:\n",
        "    print (\"Did not satisfy any previous conditions\")\n"
      ],
      "execution_count": null,
      "outputs": [
        {
          "output_type": "stream",
          "text": [
            "Less than\n"
          ],
          "name": "stdout"
        }
      ]
    }
  ]
}